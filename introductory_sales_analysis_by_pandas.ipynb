{
 "cells": [
  {
   "cell_type": "markdown",
   "id": "187f99a0",
   "metadata": {},
   "source": [
    "Step 1: Create a DataFrame from the list of dictionaries below:\n",
    "\n",
    "[{'product_id':23, 'name':'computer', 'wholesale_price': 500, 'retail_price':1000, 'sales':100}, \n",
    "{'product_id':96, 'name':'Python Workout', 'wholesale_price': 35,'retail_price':75, 'sales':1000},\n",
    "{'product_id':97, 'name':'Pandas Workout', 'wholesale_price': 35, 'retail_price':75, 'sales':500},\n",
    "{'product_id':15, 'name':'banana', 'wholesale_price': 0.5,'retail_price':1, 'sales':200},\n",
    "{'product_id':87, 'name':'sandwich', 'wholesale_price': 3,'retail_price':5, 'sales':300}]\n",
    "\n",
    "\n",
    "Step 2:  Calculate the Total Profit for each product using the formula \n",
    "\n",
    "```\n",
    "\n",
    "net_revenue_per_product = (retail_price - wholesale price) * sales\n",
    "```\n",
    "\n",
    "Step 3: Determine the following\n",
    "\n",
    "- How much total net revenue you received from all of these sales?\n",
    "\n",
    "- What product is product retail price more than twice the wholesale price?\n",
    "\n",
    "- How much did the store make from food vs. computers vs. books?\n",
    "\n",
    "- Because your store is doing so well, you’re able to negotiate a 30% discount on the wholesale price of goods. Calculate the new net revenue"
   ]
  },
  {
   "cell_type": "code",
   "execution_count": 126,
   "id": "5871aa0d",
   "metadata": {},
   "outputs": [],
   "source": [
    "import pandas as pd"
   ]
  },
  {
   "cell_type": "code",
   "execution_count": 127,
   "id": "b6dc61e8",
   "metadata": {},
   "outputs": [
    {
     "data": {
      "text/html": [
       "<div>\n",
       "<style scoped>\n",
       "    .dataframe tbody tr th:only-of-type {\n",
       "        vertical-align: middle;\n",
       "    }\n",
       "\n",
       "    .dataframe tbody tr th {\n",
       "        vertical-align: top;\n",
       "    }\n",
       "\n",
       "    .dataframe thead th {\n",
       "        text-align: right;\n",
       "    }\n",
       "</style>\n",
       "<table border=\"1\" class=\"dataframe\">\n",
       "  <thead>\n",
       "    <tr style=\"text-align: right;\">\n",
       "      <th></th>\n",
       "      <th>product_id</th>\n",
       "      <th>name</th>\n",
       "      <th>wholesale_price</th>\n",
       "      <th>retail_price</th>\n",
       "      <th>sales</th>\n",
       "    </tr>\n",
       "  </thead>\n",
       "  <tbody>\n",
       "    <tr>\n",
       "      <th>0</th>\n",
       "      <td>23</td>\n",
       "      <td>computer</td>\n",
       "      <td>500.0</td>\n",
       "      <td>1000</td>\n",
       "      <td>100</td>\n",
       "    </tr>\n",
       "    <tr>\n",
       "      <th>1</th>\n",
       "      <td>96</td>\n",
       "      <td>Python Workout</td>\n",
       "      <td>35.0</td>\n",
       "      <td>75</td>\n",
       "      <td>1000</td>\n",
       "    </tr>\n",
       "    <tr>\n",
       "      <th>2</th>\n",
       "      <td>97</td>\n",
       "      <td>Pandas Workout</td>\n",
       "      <td>35.0</td>\n",
       "      <td>75</td>\n",
       "      <td>500</td>\n",
       "    </tr>\n",
       "    <tr>\n",
       "      <th>3</th>\n",
       "      <td>15</td>\n",
       "      <td>banana</td>\n",
       "      <td>0.5</td>\n",
       "      <td>1</td>\n",
       "      <td>200</td>\n",
       "    </tr>\n",
       "    <tr>\n",
       "      <th>4</th>\n",
       "      <td>87</td>\n",
       "      <td>sandwich</td>\n",
       "      <td>3.0</td>\n",
       "      <td>5</td>\n",
       "      <td>300</td>\n",
       "    </tr>\n",
       "  </tbody>\n",
       "</table>\n",
       "</div>"
      ],
      "text/plain": [
       "   product_id            name  wholesale_price  retail_price  sales\n",
       "0          23        computer            500.0          1000    100\n",
       "1          96  Python Workout             35.0            75   1000\n",
       "2          97  Pandas Workout             35.0            75    500\n",
       "3          15          banana              0.5             1    200\n",
       "4          87        sandwich              3.0             5    300"
      ]
     },
     "execution_count": 127,
     "metadata": {},
     "output_type": "execute_result"
    }
   ],
   "source": [
    "#CREATE A DataFrame from the list of dictionaries:\n",
    "df=[{'product_id':23, 'name':'computer', 'wholesale_price': 500, 'retail_price':1000, 'sales':100}, {'product_id':96, 'name':'Python Workout', 'wholesale_price': 35,'retail_price':75, 'sales':1000}, {'product_id':97, 'name':'Pandas Workout', 'wholesale_price': 35, 'retail_price':75, 'sales':500}, {'product_id':15, 'name':'banana', 'wholesale_price': 0.5,'retail_price':1, 'sales':200}, {'product_id':87, 'name':'sandwich', 'wholesale_price': 3,'retail_price':5, 'sales':300}]\n",
    "df2=pd.DataFrame(data)\n",
    "df2"
   ]
  },
  {
   "cell_type": "code",
   "execution_count": 128,
   "id": "88631973",
   "metadata": {},
   "outputs": [
    {
     "data": {
      "text/html": [
       "<div>\n",
       "<style scoped>\n",
       "    .dataframe tbody tr th:only-of-type {\n",
       "        vertical-align: middle;\n",
       "    }\n",
       "\n",
       "    .dataframe tbody tr th {\n",
       "        vertical-align: top;\n",
       "    }\n",
       "\n",
       "    .dataframe thead th {\n",
       "        text-align: right;\n",
       "    }\n",
       "</style>\n",
       "<table border=\"1\" class=\"dataframe\">\n",
       "  <thead>\n",
       "    <tr style=\"text-align: right;\">\n",
       "      <th></th>\n",
       "      <th>product_id</th>\n",
       "      <th>name</th>\n",
       "      <th>wholesale_price</th>\n",
       "      <th>retail_price</th>\n",
       "      <th>sales</th>\n",
       "    </tr>\n",
       "  </thead>\n",
       "  <tbody>\n",
       "    <tr>\n",
       "      <th>1</th>\n",
       "      <td>96</td>\n",
       "      <td>Python Workout</td>\n",
       "      <td>35.0</td>\n",
       "      <td>75</td>\n",
       "      <td>1000</td>\n",
       "    </tr>\n",
       "    <tr>\n",
       "      <th>2</th>\n",
       "      <td>97</td>\n",
       "      <td>Pandas Workout</td>\n",
       "      <td>35.0</td>\n",
       "      <td>75</td>\n",
       "      <td>500</td>\n",
       "    </tr>\n",
       "  </tbody>\n",
       "</table>\n",
       "</div>"
      ],
      "text/plain": [
       "   product_id            name  wholesale_price  retail_price  sales\n",
       "1          96  Python Workout             35.0            75   1000\n",
       "2          97  Pandas Workout             35.0            75    500"
      ]
     },
     "execution_count": 128,
     "metadata": {},
     "output_type": "execute_result"
    }
   ],
   "source": [
    "#What product is product retail price more than twice the wholesale price?\n",
    "df2\n",
    "twice_wholesale=df2[df2['retail_price']>2*df2['wholesale_price']]\n",
    "twice_wholesale"
   ]
  },
  {
   "cell_type": "code",
   "execution_count": 129,
   "id": "100e1e5b",
   "metadata": {},
   "outputs": [
    {
     "data": {
      "text/plain": [
       "0    50000.0\n",
       "1    40000.0\n",
       "2    20000.0\n",
       "3      100.0\n",
       "4      600.0\n",
       "dtype: float64"
      ]
     },
     "execution_count": 129,
     "metadata": {},
     "output_type": "execute_result"
    }
   ],
   "source": [
    "#Calculate the total profit for each product\n",
    "#net_revenue_per_product=(retail_price-wholesale_price)*sales\n",
    "net_revenue_per_product=(df2.retail_price-df2.wholesale_price)*df2.sales\n",
    "\n",
    "net_revenue_per_product"
   ]
  },
  {
   "cell_type": "code",
   "execution_count": 130,
   "id": "c5433b75",
   "metadata": {},
   "outputs": [
    {
     "name": "stdout",
     "output_type": "stream",
     "text": [
      "Total net revenue is ghc110700.0\n"
     ]
    }
   ],
   "source": [
    "#How much total net revenue you received from all of these sales?\n",
    "\n",
    "total_net_revenue=net_revenue_per_product.sum()\n",
    "\n",
    "print(f'Total net revenue is ghc{total_net_revenue}')"
   ]
  },
  {
   "cell_type": "code",
   "execution_count": 131,
   "id": "348ca7b7",
   "metadata": {},
   "outputs": [
    {
     "name": "stdout",
     "output_type": "stream",
     "text": [
      "The net income of food vs. computers vs. books is ghc700.0 vs. ghc50000.0 vs. ghc60000.0 respectively.\n"
     ]
    }
   ],
   "source": [
    "#How much did the store make from food vs. computers vs. books?\n",
    "net_revenue_food=net_revenue_per_product.iloc[3]+net_revenue_per_product.iloc[4]\n",
    "\n",
    "net_revenue_computers=net_revenue_per_product.iloc[0]\n",
    "\n",
    "net_revenue_books=net_revenue_per_product.iloc[1]+net_revenue_per_product.iloc[2]\n",
    "\n",
    "print(f'The net income of food vs. computers vs. books is ghc{net_revenue_food} vs. ghc{net_revenue_computers} vs. ghc{net_revenue_books} respectively.')"
   ]
  },
  {
   "cell_type": "code",
   "execution_count": 132,
   "id": "53458f5f",
   "metadata": {},
   "outputs": [
    {
     "name": "stdout",
     "output_type": "stream",
     "text": [
      "The new total net revenue is ghc141750.0\n"
     ]
    }
   ],
   "source": [
    "#Because your store is doing so well, you’re able to negotiate a 30% discount on the wholesale price of goods. Calculate the new net revenue\n",
    "df2['wholesale_price']*=0.7\n",
    "\n",
    "net_revenue_per_product2=(df2.retail_price-df2.wholesale_price)*df2.sales\n",
    "\n",
    "total_net_revenue2=net_revenue_per_product2.sum()\n",
    "\n",
    "print(f'The new total net revenue is ghc{total_net_revenue2}')\n"
   ]
  },
  {
   "attachments": {},
   "cell_type": "markdown",
   "id": "ea1aad98",
   "metadata": {},
   "source": [
    "#actual first"
   ]
  },
  {
   "cell_type": "markdown",
   "id": "31dfc2bd",
   "metadata": {},
   "source": []
  },
  {
   "cell_type": "code",
   "execution_count": null,
   "id": "0b8ee925",
   "metadata": {},
   "outputs": [],
   "source": [
    "#MY FIRST COMMIT"
   ]
  },
  {
   "attachments": {},
   "cell_type": "markdown",
   "id": "d3994313",
   "metadata": {},
   "source": [
    "#the final for this"
   ]
  }
 ],
 "metadata": {
  "kernelspec": {
   "display_name": "Python 3 (ipykernel)",
   "language": "python",
   "name": "python3"
  },
  "language_info": {
   "codemirror_mode": {
    "name": "ipython",
    "version": 3
   },
   "file_extension": ".py",
   "mimetype": "text/x-python",
   "name": "python",
   "nbconvert_exporter": "python",
   "pygments_lexer": "ipython3",
   "version": "3.9.13"
  }
 },
 "nbformat": 4,
 "nbformat_minor": 5
}
